{
 "cells": [
  {
   "cell_type": "markdown",
   "id": "ae2fe9f6",
   "metadata": {},
   "source": [
    "# This is Python Tutorial"
   ]
  },
  {
   "cell_type": "markdown",
   "id": "ed7e13d5",
   "metadata": {},
   "source": [
    "This is my first program in Python. All is started here"
   ]
  },
  {
   "cell_type": "code",
   "execution_count": 1,
   "id": "c9a2e245",
   "metadata": {
    "scrolled": true
   },
   "outputs": [
    {
     "name": "stdout",
     "output_type": "stream",
     "text": [
      "Hello Yerassyl!\n"
     ]
    }
   ],
   "source": [
    "print(\"Hello Yerassyl!\")"
   ]
  },
  {
   "cell_type": "markdown",
   "id": "0ee89801",
   "metadata": {},
   "source": [
    "$a=b+c$"
   ]
  },
  {
   "cell_type": "markdown",
   "id": "a9e331ac",
   "metadata": {},
   "source": [
    "# Variables"
   ]
  },
  {
   "cell_type": "code",
   "execution_count": 2,
   "id": "46e3edd0",
   "metadata": {},
   "outputs": [],
   "source": [
    "x = 3"
   ]
  },
  {
   "cell_type": "code",
   "execution_count": 3,
   "id": "9a7b9190",
   "metadata": {},
   "outputs": [
    {
     "name": "stdout",
     "output_type": "stream",
     "text": [
      "Variable   Type    Data/Info\n",
      "----------------------------\n",
      "x          int     3\n"
     ]
    }
   ],
   "source": [
    "%whos"
   ]
  },
  {
   "cell_type": "code",
   "execution_count": 4,
   "id": "7a2286a0",
   "metadata": {},
   "outputs": [
    {
     "name": "stdout",
     "output_type": "stream",
     "text": [
      "<class 'int'>\n"
     ]
    }
   ],
   "source": [
    "print(type(x))"
   ]
  },
  {
   "cell_type": "code",
   "execution_count": 5,
   "id": "e697f44d",
   "metadata": {},
   "outputs": [],
   "source": [
    "x = 5.7"
   ]
  },
  {
   "cell_type": "code",
   "execution_count": 6,
   "id": "4a90e23c",
   "metadata": {},
   "outputs": [
    {
     "name": "stdout",
     "output_type": "stream",
     "text": [
      "Variable   Type     Data/Info\n",
      "-----------------------------\n",
      "x          float    5.7\n"
     ]
    }
   ],
   "source": [
    "%whos"
   ]
  },
  {
   "cell_type": "code",
   "execution_count": 7,
   "id": "03126f0a",
   "metadata": {},
   "outputs": [
    {
     "name": "stdout",
     "output_type": "stream",
     "text": [
      "<class 'float'>\n"
     ]
    }
   ],
   "source": [
    " print(type(x))"
   ]
  },
  {
   "cell_type": "code",
   "execution_count": 8,
   "id": "84d224f5",
   "metadata": {},
   "outputs": [],
   "source": [
    "abcd = 556.32"
   ]
  },
  {
   "cell_type": "code",
   "execution_count": 9,
   "id": "570c41ca",
   "metadata": {},
   "outputs": [
    {
     "name": "stdout",
     "output_type": "stream",
     "text": [
      "Variable   Type     Data/Info\n",
      "-----------------------------\n",
      "abcd       float    556.32\n",
      "x          float    5.7\n"
     ]
    }
   ],
   "source": [
    "%whos"
   ]
  },
  {
   "cell_type": "code",
   "execution_count": 10,
   "id": "0d7dc6d6",
   "metadata": {},
   "outputs": [],
   "source": [
    "a, b, c, d, f = 3, 5.7, 7.7, 19, -5.1"
   ]
  },
  {
   "cell_type": "code",
   "execution_count": 11,
   "id": "fcec322d",
   "metadata": {
    "scrolled": true
   },
   "outputs": [
    {
     "name": "stdout",
     "output_type": "stream",
     "text": [
      "Variable   Type     Data/Info\n",
      "-----------------------------\n",
      "a          int      3\n",
      "abcd       float    556.32\n",
      "b          float    5.7\n",
      "c          float    7.7\n",
      "d          int      19\n",
      "f          float    -5.1\n",
      "x          float    5.7\n"
     ]
    }
   ],
   "source": [
    "%whos"
   ]
  },
  {
   "cell_type": "code",
   "execution_count": 12,
   "id": "5c60ff3f",
   "metadata": {},
   "outputs": [],
   "source": [
    "del abcd"
   ]
  },
  {
   "cell_type": "code",
   "execution_count": 13,
   "id": "ff3fc8d9",
   "metadata": {},
   "outputs": [
    {
     "name": "stdout",
     "output_type": "stream",
     "text": [
      "Variable   Type     Data/Info\n",
      "-----------------------------\n",
      "a          int      3\n",
      "b          float    5.7\n",
      "c          float    7.7\n",
      "d          int      19\n",
      "f          float    -5.1\n",
      "x          float    5.7\n"
     ]
    }
   ],
   "source": [
    "%whos"
   ]
  },
  {
   "cell_type": "code",
   "execution_count": null,
   "id": "fcd688c5",
   "metadata": {},
   "outputs": [],
   "source": []
  },
  {
   "cell_type": "code",
   "execution_count": 14,
   "id": "18ea36cf",
   "metadata": {},
   "outputs": [],
   "source": [
    "c = 2 + 4j"
   ]
  },
  {
   "cell_type": "code",
   "execution_count": 15,
   "id": "e1cf4576",
   "metadata": {},
   "outputs": [
    {
     "name": "stdout",
     "output_type": "stream",
     "text": [
      "<class 'complex'>\n"
     ]
    }
   ],
   "source": [
    "print(type(c))"
   ]
  },
  {
   "cell_type": "code",
   "execution_count": 16,
   "id": "6edcb45d",
   "metadata": {},
   "outputs": [],
   "source": [
    "g = c + a"
   ]
  },
  {
   "cell_type": "code",
   "execution_count": 17,
   "id": "a24faef0",
   "metadata": {},
   "outputs": [
    {
     "name": "stdout",
     "output_type": "stream",
     "text": [
      "(5+4j)\n"
     ]
    }
   ],
   "source": [
    "print(g)"
   ]
  },
  {
   "cell_type": "code",
   "execution_count": 18,
   "id": "b9fa8ed3",
   "metadata": {},
   "outputs": [
    {
     "name": "stdout",
     "output_type": "stream",
     "text": [
      "Variable   Type       Data/Info\n",
      "-------------------------------\n",
      "a          int        3\n",
      "b          float      5.7\n",
      "c          complex    (2+4j)\n",
      "d          int        19\n",
      "f          float      -5.1\n",
      "g          complex    (5+4j)\n",
      "x          float      5.7\n"
     ]
    }
   ],
   "source": [
    "%whos"
   ]
  },
  {
   "cell_type": "code",
   "execution_count": 19,
   "id": "762441f5",
   "metadata": {},
   "outputs": [],
   "source": [
    "s = \"Hello!\""
   ]
  },
  {
   "cell_type": "code",
   "execution_count": 20,
   "id": "8b8ac0f2",
   "metadata": {},
   "outputs": [
    {
     "name": "stdout",
     "output_type": "stream",
     "text": [
      "<class 'str'>\n"
     ]
    }
   ],
   "source": [
    "print(type(s))"
   ]
  },
  {
   "cell_type": "markdown",
   "id": "a9de96aa",
   "metadata": {},
   "source": [
    "# Operators"
   ]
  },
  {
   "cell_type": "code",
   "execution_count": 21,
   "id": "95e8cbba",
   "metadata": {},
   "outputs": [
    {
     "name": "stdout",
     "output_type": "stream",
     "text": [
      "Variable   Type       Data/Info\n",
      "-------------------------------\n",
      "a          int        3\n",
      "b          float      5.7\n",
      "c          complex    (2+4j)\n",
      "d          int        19\n",
      "f          float      -5.1\n",
      "g          complex    (5+4j)\n",
      "s          str        Hello!\n",
      "x          float      5.7\n"
     ]
    }
   ],
   "source": [
    "%whos"
   ]
  },
  {
   "cell_type": "code",
   "execution_count": 22,
   "id": "ab28bebc",
   "metadata": {},
   "outputs": [],
   "source": [
    "sumOfaAndb = a + b"
   ]
  },
  {
   "cell_type": "code",
   "execution_count": 23,
   "id": "7518dd28",
   "metadata": {},
   "outputs": [
    {
     "name": "stdout",
     "output_type": "stream",
     "text": [
      "8.7\n"
     ]
    }
   ],
   "source": [
    "print(sumOfaAndb)"
   ]
  },
  {
   "cell_type": "code",
   "execution_count": 24,
   "id": "5fa517d3",
   "metadata": {},
   "outputs": [
    {
     "name": "stdout",
     "output_type": "stream",
     "text": [
      "<class 'float'>\n"
     ]
    }
   ],
   "source": [
    "print(type(sumOfaAndb))"
   ]
  },
  {
   "cell_type": "code",
   "execution_count": 25,
   "id": "08ad91c4",
   "metadata": {},
   "outputs": [],
   "source": [
    "sumOfaAndd = a + d"
   ]
  },
  {
   "cell_type": "code",
   "execution_count": 26,
   "id": "157c0b55",
   "metadata": {},
   "outputs": [
    {
     "name": "stdout",
     "output_type": "stream",
     "text": [
      "22\n",
      "<class 'int'>\n"
     ]
    }
   ],
   "source": [
    "print(sumOfaAndd)\n",
    "print(type(sumOfaAndd))"
   ]
  },
  {
   "cell_type": "code",
   "execution_count": 27,
   "id": "0c462ef3",
   "metadata": {},
   "outputs": [
    {
     "name": "stdout",
     "output_type": "stream",
     "text": [
      "8\n"
     ]
    }
   ],
   "source": [
    "print(int(a + b))"
   ]
  },
  {
   "cell_type": "code",
   "execution_count": 28,
   "id": "8894a505",
   "metadata": {},
   "outputs": [
    {
     "name": "stdout",
     "output_type": "stream",
     "text": [
      "HelloWorld\n"
     ]
    }
   ],
   "source": [
    "s1 = \"Hello\"\n",
    "s2 = \"World\"\n",
    "s = s1 + s2\n",
    "print(s)"
   ]
  },
  {
   "cell_type": "code",
   "execution_count": 29,
   "id": "57f38b5c",
   "metadata": {},
   "outputs": [
    {
     "data": {
      "text/plain": [
       "3"
      ]
     },
     "execution_count": 29,
     "metadata": {},
     "output_type": "execute_result"
    }
   ],
   "source": [
    "10//3"
   ]
  },
  {
   "cell_type": "code",
   "execution_count": 30,
   "id": "03f9b757",
   "metadata": {},
   "outputs": [
    {
     "data": {
      "text/plain": [
       "3.3333333333333335"
      ]
     },
     "execution_count": 30,
     "metadata": {},
     "output_type": "execute_result"
    }
   ],
   "source": [
    "10/3"
   ]
  },
  {
   "cell_type": "code",
   "execution_count": 31,
   "id": "06c91ee4",
   "metadata": {},
   "outputs": [
    {
     "data": {
      "text/plain": [
       "3.3333333333333335"
      ]
     },
     "execution_count": 31,
     "metadata": {},
     "output_type": "execute_result"
    }
   ],
   "source": [
    "_"
   ]
  },
  {
   "cell_type": "code",
   "execution_count": 32,
   "id": "64789645",
   "metadata": {},
   "outputs": [
    {
     "data": {
      "text/plain": [
       "13"
      ]
     },
     "execution_count": 32,
     "metadata": {},
     "output_type": "execute_result"
    }
   ],
   "source": [
    "10 + 3"
   ]
  },
  {
   "cell_type": "code",
   "execution_count": 33,
   "id": "9cf25138",
   "metadata": {},
   "outputs": [
    {
     "data": {
      "text/plain": [
       "13"
      ]
     },
     "execution_count": 33,
     "metadata": {},
     "output_type": "execute_result"
    }
   ],
   "source": [
    "_"
   ]
  },
  {
   "cell_type": "code",
   "execution_count": 34,
   "id": "81a86fa9",
   "metadata": {
    "scrolled": true
   },
   "outputs": [
    {
     "data": {
      "text/plain": [
       "2.0"
      ]
     },
     "execution_count": 34,
     "metadata": {},
     "output_type": "execute_result"
    }
   ],
   "source": [
    "4 / 2"
   ]
  },
  {
   "cell_type": "code",
   "execution_count": 35,
   "id": "e3ad7ae1",
   "metadata": {
    "scrolled": true
   },
   "outputs": [
    {
     "data": {
      "text/plain": [
       "2.0"
      ]
     },
     "execution_count": 35,
     "metadata": {},
     "output_type": "execute_result"
    }
   ],
   "source": [
    "_"
   ]
  },
  {
   "cell_type": "code",
   "execution_count": 36,
   "id": "e5aa64b8",
   "metadata": {},
   "outputs": [
    {
     "data": {
      "text/plain": [
       "6"
      ]
     },
     "execution_count": 36,
     "metadata": {},
     "output_type": "execute_result"
    }
   ],
   "source": [
    "3 + 3"
   ]
  },
  {
   "cell_type": "code",
   "execution_count": 37,
   "id": "4978b419",
   "metadata": {},
   "outputs": [
    {
     "data": {
      "text/plain": [
       "6"
      ]
     },
     "execution_count": 37,
     "metadata": {},
     "output_type": "execute_result"
    }
   ],
   "source": [
    "_"
   ]
  },
  {
   "cell_type": "code",
   "execution_count": 38,
   "id": "8e2ab290",
   "metadata": {},
   "outputs": [],
   "source": [
    "startingTimeOfTheCourse = 2.0"
   ]
  },
  {
   "cell_type": "code",
   "execution_count": 39,
   "id": "6c664701",
   "metadata": {},
   "outputs": [
    {
     "name": "stdout",
     "output_type": "stream",
     "text": [
      "Variable                  Type       Data/Info\n",
      "----------------------------------------------\n",
      "a                         int        3\n",
      "b                         float      5.7\n",
      "c                         complex    (2+4j)\n",
      "d                         int        19\n",
      "f                         float      -5.1\n",
      "g                         complex    (5+4j)\n",
      "s                         str        HelloWorld\n",
      "s1                        str        Hello\n",
      "s2                        str        World\n",
      "startingTimeOfTheCourse   float      2.0\n",
      "sumOfaAndb                float      8.7\n",
      "sumOfaAndd                int        22\n",
      "x                         float      5.7\n"
     ]
    }
   ],
   "source": [
    "%whos"
   ]
  },
  {
   "cell_type": "markdown",
   "id": "791aee27",
   "metadata": {},
   "source": [
    "# Bool"
   ]
  },
  {
   "cell_type": "code",
   "execution_count": 40,
   "id": "7acff872",
   "metadata": {},
   "outputs": [],
   "source": [
    "a = True\n",
    "b = True\n",
    "c = False"
   ]
  },
  {
   "cell_type": "code",
   "execution_count": 41,
   "id": "b0f4cc52",
   "metadata": {},
   "outputs": [
    {
     "name": "stdout",
     "output_type": "stream",
     "text": [
      "Variable                  Type       Data/Info\n",
      "----------------------------------------------\n",
      "a                         bool       True\n",
      "b                         bool       True\n",
      "c                         bool       False\n",
      "d                         int        19\n",
      "f                         float      -5.1\n",
      "g                         complex    (5+4j)\n",
      "s                         str        HelloWorld\n",
      "s1                        str        Hello\n",
      "s2                        str        World\n",
      "startingTimeOfTheCourse   float      2.0\n",
      "sumOfaAndb                float      8.7\n",
      "sumOfaAndd                int        22\n",
      "x                         float      5.7\n"
     ]
    }
   ],
   "source": [
    "%whos"
   ]
  },
  {
   "cell_type": "code",
   "execution_count": 42,
   "id": "1a52e24b",
   "metadata": {},
   "outputs": [
    {
     "name": "stdout",
     "output_type": "stream",
     "text": [
      "True\n",
      "False\n",
      "False\n"
     ]
    }
   ],
   "source": [
    "print(a and b)\n",
    "print(a and c)\n",
    "print(c and a)"
   ]
  },
  {
   "cell_type": "code",
   "execution_count": 43,
   "id": "b0318caf",
   "metadata": {},
   "outputs": [],
   "source": [
    "d = a or c"
   ]
  },
  {
   "cell_type": "code",
   "execution_count": 44,
   "id": "d70b37a1",
   "metadata": {},
   "outputs": [
    {
     "name": "stdout",
     "output_type": "stream",
     "text": [
      "True\n"
     ]
    }
   ],
   "source": [
    "print(d)"
   ]
  },
  {
   "cell_type": "code",
   "execution_count": 45,
   "id": "32c810a8",
   "metadata": {},
   "outputs": [
    {
     "data": {
      "text/plain": [
       "False"
      ]
     },
     "execution_count": 45,
     "metadata": {},
     "output_type": "execute_result"
    }
   ],
   "source": [
    "not(a)"
   ]
  },
  {
   "cell_type": "code",
   "execution_count": 46,
   "id": "9190529b",
   "metadata": {},
   "outputs": [
    {
     "data": {
      "text/plain": [
       "False"
      ]
     },
     "execution_count": 46,
     "metadata": {},
     "output_type": "execute_result"
    }
   ],
   "source": [
    "not(b)"
   ]
  },
  {
   "cell_type": "code",
   "execution_count": 47,
   "id": "dfd644bd",
   "metadata": {},
   "outputs": [
    {
     "data": {
      "text/plain": [
       "True"
      ]
     },
     "execution_count": 47,
     "metadata": {},
     "output_type": "execute_result"
    }
   ],
   "source": [
    "not(c)"
   ]
  },
  {
   "cell_type": "code",
   "execution_count": 48,
   "id": "215ecfcd",
   "metadata": {},
   "outputs": [
    {
     "data": {
      "text/plain": [
       "False"
      ]
     },
     "execution_count": 48,
     "metadata": {},
     "output_type": "execute_result"
    }
   ],
   "source": [
    "not(d)"
   ]
  },
  {
   "cell_type": "code",
   "execution_count": 49,
   "id": "d18f9091",
   "metadata": {},
   "outputs": [],
   "source": [
    "t = not(d)"
   ]
  },
  {
   "cell_type": "code",
   "execution_count": 50,
   "id": "e3ce688e",
   "metadata": {},
   "outputs": [
    {
     "data": {
      "text/plain": [
       "bool"
      ]
     },
     "execution_count": 50,
     "metadata": {},
     "output_type": "execute_result"
    }
   ],
   "source": [
    "type(t)"
   ]
  },
  {
   "cell_type": "code",
   "execution_count": 51,
   "id": "ad59aa56",
   "metadata": {},
   "outputs": [
    {
     "name": "stdout",
     "output_type": "stream",
     "text": [
      "False\n"
     ]
    }
   ],
   "source": [
    "print(t)"
   ]
  },
  {
   "cell_type": "code",
   "execution_count": 52,
   "id": "93367923",
   "metadata": {},
   "outputs": [
    {
     "data": {
      "text/plain": [
       "False"
      ]
     },
     "execution_count": 52,
     "metadata": {},
     "output_type": "execute_result"
    }
   ],
   "source": [
    "not((a and b) or (c or d))"
   ]
  },
  {
   "cell_type": "code",
   "execution_count": 53,
   "id": "91c1faf5",
   "metadata": {},
   "outputs": [
    {
     "name": "stdout",
     "output_type": "stream",
     "text": [
      "Variable                  Type       Data/Info\n",
      "----------------------------------------------\n",
      "a                         bool       True\n",
      "b                         bool       True\n",
      "c                         bool       False\n",
      "d                         bool       True\n",
      "f                         float      -5.1\n",
      "g                         complex    (5+4j)\n",
      "s                         str        HelloWorld\n",
      "s1                        str        Hello\n",
      "s2                        str        World\n",
      "startingTimeOfTheCourse   float      2.0\n",
      "sumOfaAndb                float      8.7\n",
      "sumOfaAndd                int        22\n",
      "t                         bool       False\n",
      "x                         float      5.7\n"
     ]
    }
   ],
   "source": [
    "%whos"
   ]
  },
  {
   "cell_type": "markdown",
   "id": "00328524",
   "metadata": {},
   "source": [
    "# Comparisons"
   ]
  },
  {
   "cell_type": "code",
   "execution_count": 54,
   "id": "a0c2a942",
   "metadata": {},
   "outputs": [
    {
     "name": "stdout",
     "output_type": "stream",
     "text": [
      "True\n"
     ]
    }
   ],
   "source": [
    "print(2<3)"
   ]
  },
  {
   "cell_type": "code",
   "execution_count": 55,
   "id": "6fa83ca0",
   "metadata": {},
   "outputs": [],
   "source": [
    "c = 2 < 3"
   ]
  },
  {
   "cell_type": "code",
   "execution_count": 56,
   "id": "d6a37586",
   "metadata": {},
   "outputs": [
    {
     "name": "stdout",
     "output_type": "stream",
     "text": [
      "<class 'bool'>\n",
      "True\n"
     ]
    }
   ],
   "source": [
    "print(type(c))\n",
    "print(c)"
   ]
  },
  {
   "cell_type": "code",
   "execution_count": 57,
   "id": "4dcf68b3",
   "metadata": {},
   "outputs": [
    {
     "name": "stdout",
     "output_type": "stream",
     "text": [
      "False\n"
     ]
    }
   ],
   "source": [
    "d = 3 == 4\n",
    "print(d)"
   ]
  },
  {
   "cell_type": "code",
   "execution_count": 58,
   "id": "847940a5",
   "metadata": {},
   "outputs": [
    {
     "data": {
      "text/plain": [
       "True"
      ]
     },
     "execution_count": 58,
     "metadata": {},
     "output_type": "execute_result"
    }
   ],
   "source": [
    "3 == 3.0"
   ]
  },
  {
   "cell_type": "code",
   "execution_count": 59,
   "id": "839afc5c",
   "metadata": {},
   "outputs": [],
   "source": [
    "x = 4\n",
    "y = 9\n",
    "z = 8.3\n",
    "r = -3"
   ]
  },
  {
   "cell_type": "code",
   "execution_count": 60,
   "id": "e096ace4",
   "metadata": {},
   "outputs": [
    {
     "data": {
      "text/plain": [
       "True"
      ]
     },
     "execution_count": 60,
     "metadata": {},
     "output_type": "execute_result"
    }
   ],
   "source": [
    "(x < y) and (z < y) or (r == x)"
   ]
  },
  {
   "cell_type": "code",
   "execution_count": 61,
   "id": "505783a2",
   "metadata": {},
   "outputs": [
    {
     "data": {
      "text/plain": [
       "False"
      ]
     },
     "execution_count": 61,
     "metadata": {},
     "output_type": "execute_result"
    }
   ],
   "source": [
    "(x < y) and (r == x) or (z > y)"
   ]
  },
  {
   "cell_type": "code",
   "execution_count": 62,
   "id": "ecd57ff9",
   "metadata": {},
   "outputs": [
    {
     "data": {
      "text/plain": [
       "False"
      ]
     },
     "execution_count": 62,
     "metadata": {},
     "output_type": "execute_result"
    }
   ],
   "source": [
    "False or False and True"
   ]
  },
  {
   "cell_type": "code",
   "execution_count": 63,
   "id": "5182dc1a",
   "metadata": {},
   "outputs": [
    {
     "data": {
      "text/plain": [
       "True"
      ]
     },
     "execution_count": 63,
     "metadata": {},
     "output_type": "execute_result"
    }
   ],
   "source": [
    "False and False or True"
   ]
  },
  {
   "cell_type": "code",
   "execution_count": 64,
   "id": "1434314c",
   "metadata": {},
   "outputs": [
    {
     "name": "stdout",
     "output_type": "stream",
     "text": [
      "False\n"
     ]
    }
   ],
   "source": [
    "print((not(2!=3) and True) or (False and True))"
   ]
  },
  {
   "cell_type": "markdown",
   "id": "ddddbab6",
   "metadata": {},
   "source": [
    "# Some useful functions"
   ]
  },
  {
   "cell_type": "code",
   "execution_count": 65,
   "id": "c4566ae4",
   "metadata": {},
   "outputs": [
    {
     "name": "stdout",
     "output_type": "stream",
     "text": [
      "5\n"
     ]
    }
   ],
   "source": [
    "print(round(4.556))"
   ]
  },
  {
   "cell_type": "code",
   "execution_count": 66,
   "id": "130d8ed0",
   "metadata": {},
   "outputs": [
    {
     "name": "stdout",
     "output_type": "stream",
     "text": [
      "4.65\n"
     ]
    }
   ],
   "source": [
    "print(round(4.6545656, 2))"
   ]
  },
  {
   "cell_type": "code",
   "execution_count": 67,
   "id": "65534a59",
   "metadata": {},
   "outputs": [
    {
     "name": "stdout",
     "output_type": "stream",
     "text": [
      "(5, 2)\n"
     ]
    }
   ],
   "source": [
    "c = divmod(27,5) #tuple\n",
    "print(c)"
   ]
  },
  {
   "cell_type": "code",
   "execution_count": 68,
   "id": "c785392f",
   "metadata": {},
   "outputs": [],
   "source": [
    "G = divmod(34,9)"
   ]
  },
  {
   "cell_type": "code",
   "execution_count": 69,
   "id": "44594256",
   "metadata": {},
   "outputs": [
    {
     "data": {
      "text/plain": [
       "tuple"
      ]
     },
     "execution_count": 69,
     "metadata": {},
     "output_type": "execute_result"
    }
   ],
   "source": [
    "type(G)"
   ]
  },
  {
   "cell_type": "code",
   "execution_count": 70,
   "id": "09ee69c1",
   "metadata": {},
   "outputs": [
    {
     "name": "stdout",
     "output_type": "stream",
     "text": [
      "(3, 7)\n"
     ]
    }
   ],
   "source": [
    "print(G)"
   ]
  },
  {
   "cell_type": "code",
   "execution_count": 71,
   "id": "44a9ad18",
   "metadata": {},
   "outputs": [
    {
     "data": {
      "text/plain": [
       "3"
      ]
     },
     "execution_count": 71,
     "metadata": {},
     "output_type": "execute_result"
    }
   ],
   "source": [
    "G[0]"
   ]
  },
  {
   "cell_type": "code",
   "execution_count": 72,
   "id": "cec64dad",
   "metadata": {},
   "outputs": [
    {
     "data": {
      "text/plain": [
       "7"
      ]
     },
     "execution_count": 72,
     "metadata": {},
     "output_type": "execute_result"
    }
   ],
   "source": [
    "G[1]"
   ]
  },
  {
   "cell_type": "code",
   "execution_count": 73,
   "id": "38744dd6",
   "metadata": {},
   "outputs": [
    {
     "data": {
      "text/plain": [
       "3"
      ]
     },
     "execution_count": 73,
     "metadata": {},
     "output_type": "execute_result"
    }
   ],
   "source": [
    "34//9"
   ]
  },
  {
   "cell_type": "code",
   "execution_count": 74,
   "id": "d073a4c9",
   "metadata": {},
   "outputs": [
    {
     "data": {
      "text/plain": [
       "7"
      ]
     },
     "execution_count": 74,
     "metadata": {},
     "output_type": "execute_result"
    }
   ],
   "source": [
    "34%9"
   ]
  },
  {
   "cell_type": "code",
   "execution_count": 75,
   "id": "b6a8a6b9",
   "metadata": {},
   "outputs": [
    {
     "name": "stdout",
     "output_type": "stream",
     "text": [
      "Variable                  Type       Data/Info\n",
      "----------------------------------------------\n",
      "G                         tuple      n=2\n",
      "a                         bool       True\n",
      "b                         bool       True\n",
      "c                         tuple      n=2\n",
      "d                         bool       False\n",
      "f                         float      -5.1\n",
      "g                         complex    (5+4j)\n",
      "r                         int        -3\n",
      "s                         str        HelloWorld\n",
      "s1                        str        Hello\n",
      "s2                        str        World\n",
      "startingTimeOfTheCourse   float      2.0\n",
      "sumOfaAndb                float      8.7\n",
      "sumOfaAndd                int        22\n",
      "t                         bool       False\n",
      "x                         int        4\n",
      "y                         int        9\n",
      "z                         float      8.3\n"
     ]
    }
   ],
   "source": [
    "%whos"
   ]
  },
  {
   "cell_type": "code",
   "execution_count": 76,
   "id": "07ade784",
   "metadata": {},
   "outputs": [
    {
     "data": {
      "text/plain": [
       "True"
      ]
     },
     "execution_count": 76,
     "metadata": {},
     "output_type": "execute_result"
    }
   ],
   "source": [
    "isinstance(3, int)"
   ]
  },
  {
   "cell_type": "code",
   "execution_count": 77,
   "id": "ab7b48ac",
   "metadata": {},
   "outputs": [
    {
     "data": {
      "text/plain": [
       "False"
      ]
     },
     "execution_count": 77,
     "metadata": {},
     "output_type": "execute_result"
    }
   ],
   "source": [
    "isinstance(3.4, int)"
   ]
  },
  {
   "cell_type": "code",
   "execution_count": 78,
   "id": "b2ae5f98",
   "metadata": {},
   "outputs": [
    {
     "data": {
      "text/plain": [
       "True"
      ]
     },
     "execution_count": 78,
     "metadata": {},
     "output_type": "execute_result"
    }
   ],
   "source": [
    "isinstance(3.4, (float, int))"
   ]
  },
  {
   "cell_type": "code",
   "execution_count": 79,
   "id": "5d089061",
   "metadata": {},
   "outputs": [
    {
     "data": {
      "text/plain": [
       "True"
      ]
     },
     "execution_count": 79,
     "metadata": {},
     "output_type": "execute_result"
    }
   ],
   "source": [
    "isinstance(2 + 3j, (int, float, str, complex)) #its complex"
   ]
  },
  {
   "cell_type": "code",
   "execution_count": 80,
   "id": "1826382b",
   "metadata": {},
   "outputs": [
    {
     "data": {
      "text/plain": [
       "8"
      ]
     },
     "execution_count": 80,
     "metadata": {},
     "output_type": "execute_result"
    }
   ],
   "source": [
    "pow(2, 3)"
   ]
  },
  {
   "cell_type": "code",
   "execution_count": 81,
   "id": "40a86f01",
   "metadata": {},
   "outputs": [
    {
     "data": {
      "text/plain": [
       "8"
      ]
     },
     "execution_count": 81,
     "metadata": {},
     "output_type": "execute_result"
    }
   ],
   "source": [
    "2**3"
   ]
  },
  {
   "cell_type": "code",
   "execution_count": 82,
   "id": "1bb3bca5",
   "metadata": {},
   "outputs": [
    {
     "data": {
      "text/plain": [
       "0"
      ]
     },
     "execution_count": 82,
     "metadata": {},
     "output_type": "execute_result"
    }
   ],
   "source": [
    "pow(2,4,8) #third is remainder: 16%8 = 0"
   ]
  },
  {
   "cell_type": "code",
   "execution_count": 83,
   "id": "e40c44bc",
   "metadata": {},
   "outputs": [
    {
     "data": {
      "text/plain": [
       "0"
      ]
     },
     "execution_count": 83,
     "metadata": {},
     "output_type": "execute_result"
    }
   ],
   "source": [
    "16%8"
   ]
  },
  {
   "cell_type": "code",
   "execution_count": 84,
   "id": "547404ee",
   "metadata": {},
   "outputs": [
    {
     "name": "stdout",
     "output_type": "stream",
     "text": [
      "Enter a number: 7\n"
     ]
    }
   ],
   "source": [
    "x = input(\"Enter a number: \")"
   ]
  },
  {
   "cell_type": "code",
   "execution_count": 85,
   "id": "5132761a",
   "metadata": {},
   "outputs": [
    {
     "data": {
      "text/plain": [
       "str"
      ]
     },
     "execution_count": 85,
     "metadata": {},
     "output_type": "execute_result"
    }
   ],
   "source": [
    "type(x)"
   ]
  },
  {
   "cell_type": "code",
   "execution_count": 86,
   "id": "06b0ca52",
   "metadata": {},
   "outputs": [
    {
     "name": "stdout",
     "output_type": "stream",
     "text": [
      "<class 'int'>\n",
      "7\n"
     ]
    }
   ],
   "source": [
    "x = int(x)\n",
    "print(type(x))\n",
    "print(x)"
   ]
  },
  {
   "cell_type": "code",
   "execution_count": 87,
   "id": "bb447353",
   "metadata": {},
   "outputs": [
    {
     "name": "stdout",
     "output_type": "stream",
     "text": [
      "-27\n"
     ]
    }
   ],
   "source": [
    "print(x-34)"
   ]
  },
  {
   "cell_type": "code",
   "execution_count": 88,
   "id": "f1fa9d92",
   "metadata": {},
   "outputs": [
    {
     "name": "stdout",
     "output_type": "stream",
     "text": [
      "Enter a real number: 6\n"
     ]
    }
   ],
   "source": [
    "a = float(input(\"Enter a real number: \"))"
   ]
  },
  {
   "cell_type": "code",
   "execution_count": 89,
   "id": "484221cf",
   "metadata": {},
   "outputs": [
    {
     "name": "stdout",
     "output_type": "stream",
     "text": [
      "6.0\n",
      "<class 'float'>\n"
     ]
    }
   ],
   "source": [
    "print(a)\n",
    "print(type(a))"
   ]
  },
  {
   "cell_type": "code",
   "execution_count": 90,
   "id": "8fdaf94b",
   "metadata": {},
   "outputs": [
    {
     "name": "stdout",
     "output_type": "stream",
     "text": [
      "hello\n"
     ]
    }
   ],
   "source": [
    "print(\"hello\")"
   ]
  },
  {
   "cell_type": "code",
   "execution_count": 91,
   "id": "73a10f96",
   "metadata": {},
   "outputs": [],
   "source": [
    "pow?"
   ]
  },
  {
   "cell_type": "code",
   "execution_count": 92,
   "id": "be74c670",
   "metadata": {},
   "outputs": [],
   "source": [
    "input??"
   ]
  },
  {
   "cell_type": "code",
   "execution_count": 93,
   "id": "0f7ec521",
   "metadata": {},
   "outputs": [
    {
     "name": "stdout",
     "output_type": "stream",
     "text": [
      "Help on built-in function pow in module builtins:\n",
      "\n",
      "pow(base, exp, mod=None)\n",
      "    Equivalent to base**exp with 2 arguments or base**exp % mod with 3 arguments\n",
      "    \n",
      "    Some types, such as ints, are able to use a more efficient algorithm when\n",
      "    invoked using the three argument form.\n",
      "\n"
     ]
    }
   ],
   "source": [
    "help(pow)"
   ]
  },
  {
   "cell_type": "markdown",
   "id": "0e0f441a",
   "metadata": {},
   "source": [
    "# Control Flow"
   ]
  },
  {
   "cell_type": "code",
   "execution_count": null,
   "id": "dc9457ee",
   "metadata": {
    "scrolled": true
   },
   "outputs": [],
   "source": [
    "a = int(input())\n",
    "b = int(input())\n",
    "if a > b:\n",
    "    print(a)\n",
    "if b > a:\n",
    "    print(b)"
   ]
  },
  {
   "cell_type": "code",
   "execution_count": null,
   "id": "ebfffcf6",
   "metadata": {},
   "outputs": [],
   "source": [
    "a = int(input())\n",
    "b = int(input())\n",
    "if a > b:\n",
    "    print(a)\n",
    "    print(\"if part\")\n",
    "else:\n",
    "    print(b)\n",
    "    print(\"else\")"
   ]
  },
  {
   "cell_type": "code",
   "execution_count": null,
   "id": "5b8e8fbf",
   "metadata": {},
   "outputs": [],
   "source": [
    "a = 10\n",
    "b = 10\n",
    "if a==b:\n",
    "    print(\"Equal\")\n",
    "elif a > b:\n",
    "    print(\"A\")\n",
    "else:\n",
    "    print(\"B\")\n",
    "print(\"Not in if\")"
   ]
  },
  {
   "cell_type": "code",
   "execution_count": null,
   "id": "95e6633d",
   "metadata": {},
   "outputs": [],
   "source": [
    "a = 9\n",
    "b = 10\n",
    "print(\"A\") if a > b else print(\"=\") if a == b else print(\"B\")"
   ]
  },
  {
   "cell_type": "code",
   "execution_count": null,
   "id": "2448e5d6",
   "metadata": {},
   "outputs": [],
   "source": [
    "a = int(input(\"Enter Marks: \"))\n",
    "if a >= 85:\n",
    "    print(\"A Grade\")\n",
    "elif (a < 85) and (a >= 80):\n",
    "    print(\"A- Grade\")\n",
    "elif (a < 80) and (a >= 75):\n",
    "    print(\"B Grade\")\n",
    "elif (a < 75) and (a >= 70):\n",
    "    print(\"B- Grade\")\n",
    "else:\n",
    "    print(\"Below Average\")"
   ]
  },
  {
   "cell_type": "code",
   "execution_count": null,
   "id": "3db707ba",
   "metadata": {},
   "outputs": [],
   "source": [
    "a = 13\n",
    "if a > 10:\n",
    "    print(\">10\")\n",
    "elif not(a > 10):\n",
    "    print(\"Else part\")"
   ]
  },
  {
   "cell_type": "code",
   "execution_count": null,
   "id": "9adddab1",
   "metadata": {},
   "outputs": [],
   "source": [
    "x = int(input(\"Enter a number: \"))\n",
    "\n",
    "if x > 10:\n",
    "    print(\"Your Number is above ten, \")\n",
    "    if x > 20:\n",
    "        print(\"and also above 20!\")\n",
    "    else:\n",
    "        print(\"but not above 20.\")"
   ]
  },
  {
   "cell_type": "code",
   "execution_count": null,
   "id": "803ffbea",
   "metadata": {},
   "outputs": [],
   "source": [
    "a = int(input())\n",
    "if a > 10:\n",
    "    print(\">10\")\n",
    "    print(\"Inside the top if\")\n",
    "    if a > 20:\n",
    "        print(\">20\")\n",
    "        print(\"inside the nested if\")\n",
    "        if a > 30:\n",
    "            print(\">30\")\n",
    "            print(\"inside the nested if of nested if\")\n",
    "        else:\n",
    "            print(\"<=30\")\n",
    "            print(\"inside the else part of nested if of nested if\")\n",
    "    else:\n",
    "        print(\"<=20\")\n",
    "        print(\"Inside the else part of nested if\")\n",
    "print(\"Outside all ifs\")"
   ]
  },
  {
   "cell_type": "code",
   "execution_count": null,
   "id": "14616159",
   "metadata": {},
   "outputs": [],
   "source": [
    "#Problem task\n",
    "\"\"\" User will enter a floating point number lets say \n",
    "238.915. Your task is to find out the integer portion \n",
    "before the point (in this case 238) and then check if\n",
    "that interger portion is an even number or not?\n",
    "\"\"\"\n",
    "x = float(input(\"Enter a real number: \"))\n",
    "y = round(x)\n",
    "if x > 0:\n",
    "    if y > x:\n",
    "        intPortion = y - 1\n",
    "    else:\n",
    "        intPortion = y\n",
    "else:\n",
    "    if y < x:\n",
    "        intPortion = y + 1\n",
    "    else: \n",
    "        intPortion = y\n",
    "\n",
    "print(intPortion)\n",
    "if intPortion%2 == 0:\n",
    "    print(\"Even\")\n",
    "else:\n",
    "    print(\"Odd\")"
   ]
  },
  {
   "cell_type": "markdown",
   "id": "dd3e3960",
   "metadata": {},
   "source": [
    "# Loops"
   ]
  },
  {
   "cell_type": "code",
   "execution_count": null,
   "id": "e75ed7a4",
   "metadata": {},
   "outputs": [],
   "source": [
    "n = int(input(\"Max irerations: \"))\n",
    "i = 1\n",
    "while i < n:\n",
    "    print(i)\n",
    "    i += 1\n",
    "print(\"Done.\")"
   ]
  },
  {
   "cell_type": "code",
   "execution_count": null,
   "id": "2812b43c",
   "metadata": {},
   "outputs": [],
   "source": [
    "n = int(input())\n",
    "i = 1\n",
    "while i < n:\n",
    "    print(i**2)\n",
    "    print(\"This is iteration number: \", i)\n",
    "    i += 1 # i = i+1\n",
    "print(\"Loop done\")"
   ]
  },
  {
   "cell_type": "code",
   "execution_count": null,
   "id": "9d61ce4c",
   "metadata": {},
   "outputs": [],
   "source": [
    "n = int(input(\"Max iterations: \"))\n",
    "i = 1\n",
    "while i < n:\n",
    "    if i%2 == 0:\n",
    "        print(i)\n",
    "    else:\n",
    "        pass\n",
    "    i+=1\n",
    "print(\"Done.\")"
   ]
  },
  {
   "cell_type": "code",
   "execution_count": null,
   "id": "490bd77d",
   "metadata": {},
   "outputs": [],
   "source": [
    "i = 1\n",
    "while True:\n",
    "    if i%17 == 0:\n",
    "        print(\"Inside if\")\n",
    "        print(\"break\")\n",
    "        break\n",
    "    else:\n",
    "        print(\"Inside else: \", i)\n",
    "        i += 1\n",
    "        continue\n",
    "    print(\"I am inside in the loop\")\n",
    "print(\"Done.\")"
   ]
  },
  {
   "cell_type": "code",
   "execution_count": null,
   "id": "8f55120f",
   "metadata": {},
   "outputs": [],
   "source": [
    "i = 1\n",
    "while True:\n",
    "    if i%9 != 0:\n",
    "        print(\"inside if\")\n",
    "        i += 1\n",
    "        continue #continue asks to go back again\n",
    "    print(\"something\")\n",
    "    print(\"something else\")\n",
    "    break\n",
    "print(\"Done.\")"
   ]
  },
  {
   "cell_type": "code",
   "execution_count": null,
   "id": "06e03c94",
   "metadata": {},
   "outputs": [],
   "source": [
    "L = []\n",
    "for i in range(1,20,3):\n",
    "    print(i)\n",
    "    L.append(i**2) \n",
    "print(L)"
   ]
  },
  {
   "cell_type": "code",
   "execution_count": null,
   "id": "3a2efcd6",
   "metadata": {},
   "outputs": [],
   "source": [
    "S = [\"apple\", 4.9, \"cherry\"]\n",
    "i = 1\n",
    "for x in S:\n",
    "    print(x)\n",
    "    i += 1 \n",
    "    if i == 3:\n",
    "        break\n",
    "    else:\n",
    "        pass\n",
    "else:\n",
    "    print(\"Loop completes its iterations\")\n",
    "print(\"Outside the loop\")"
   ]
  },
  {
   "cell_type": "code",
   "execution_count": null,
   "id": "73db1fe6",
   "metadata": {},
   "outputs": [],
   "source": [
    "D = {\"apple\":44, \"cherry\":\"game\"}\n",
    "for x in D:\n",
    "    print(x,D[x])"
   ]
  },
  {
   "cell_type": "code",
   "execution_count": null,
   "id": "58615eb2",
   "metadata": {},
   "outputs": [],
   "source": [
    "D = {\"A\":10, \"B\":-19, \"C\":\"abc\"}\n",
    "for x in D:\n",
    "    print(x,D[x])"
   ]
  },
  {
   "cell_type": "code",
   "execution_count": null,
   "id": "f4258e74",
   "metadata": {
    "scrolled": true
   },
   "outputs": [],
   "source": [
    "\"\"\" Given a list of numbers  i.e. [1,2,4,-5,7,9,3,2], make another list\n",
    "that contains all the items in sorted order from min to max. i.e. your\n",
    "result will be another list like [-5,1,2,2,3,4,7,9]\n",
    "\"\"\"\n",
    "L = [1,2,4,-5,7,9,3,2]\n",
    "for j in range(len(L)):\n",
    "    m = L[j]\n",
    "    idx = j\n",
    "    c = j\n",
    "    for i in range(j, len(L)):\n",
    "        if L[i] < m:\n",
    "            m = L[i]\n",
    "            idx = c\n",
    "        c+=1\n",
    "    tmp = L[j]\n",
    "    L[j] = m\n",
    "    L[idx] = tmp\n",
    "print(L)"
   ]
  },
  {
   "cell_type": "code",
   "execution_count": null,
   "id": "1ca7c0f0",
   "metadata": {},
   "outputs": [],
   "source": [
    "L"
   ]
  },
  {
   "cell_type": "markdown",
   "id": "1bf44bc0",
   "metadata": {},
   "source": [
    "# Functions"
   ]
  },
  {
   "cell_type": "code",
   "execution_count": null,
   "id": "c02708ec",
   "metadata": {},
   "outputs": [],
   "source": [
    "def printSuccess():\n",
    "    print(\"The task was successful\")\n",
    "    print(\"Moving to the next task\")\n",
    "    print(\"Send me the next task\")\n",
    "    \n",
    "printSuccess()"
   ]
  },
  {
   "cell_type": "code",
   "execution_count": null,
   "id": "75728e05",
   "metadata": {},
   "outputs": [],
   "source": [
    "%whos"
   ]
  },
  {
   "cell_type": "code",
   "execution_count": null,
   "id": "a3f9b1bc",
   "metadata": {},
   "outputs": [],
   "source": [
    "printSuccess()"
   ]
  },
  {
   "cell_type": "code",
   "execution_count": null,
   "id": "f6fb1954",
   "metadata": {},
   "outputs": [],
   "source": [
    "print(_)"
   ]
  },
  {
   "cell_type": "code",
   "execution_count": null,
   "id": "1b6d929a",
   "metadata": {},
   "outputs": [],
   "source": [
    "def printSuccess2():\n",
    "    \"\"\" This function is doing nothing except printing a message.\n",
    "    That message is \"Hello\"\n",
    "    \"\"\"\n",
    "    print(\"Hello\")"
   ]
  },
  {
   "cell_type": "code",
   "execution_count": null,
   "id": "0b02c3ca",
   "metadata": {},
   "outputs": [],
   "source": [
    "printSuccess2?"
   ]
  },
  {
   "cell_type": "code",
   "execution_count": null,
   "id": "93c1ce6e",
   "metadata": {},
   "outputs": [],
   "source": [
    "printSuccess2??"
   ]
  },
  {
   "cell_type": "code",
   "execution_count": null,
   "id": "7264728a",
   "metadata": {},
   "outputs": [],
   "source": [
    "len?"
   ]
  },
  {
   "cell_type": "code",
   "execution_count": null,
   "id": "a6324b2a",
   "metadata": {},
   "outputs": [],
   "source": [
    "len??"
   ]
  },
  {
   "cell_type": "code",
   "execution_count": null,
   "id": "d728746d",
   "metadata": {},
   "outputs": [],
   "source": [
    "help(printSuccess2)"
   ]
  },
  {
   "cell_type": "code",
   "execution_count": null,
   "id": "5d6ba408",
   "metadata": {},
   "outputs": [],
   "source": [
    "help??"
   ]
  },
  {
   "cell_type": "code",
   "execution_count": null,
   "id": "153a9325",
   "metadata": {},
   "outputs": [],
   "source": [
    "printSuccess2()"
   ]
  },
  {
   "cell_type": "code",
   "execution_count": null,
   "id": "56480b6c",
   "metadata": {},
   "outputs": [],
   "source": []
  }
 ],
 "metadata": {
  "kernelspec": {
   "display_name": "Python 3 (ipykernel)",
   "language": "python",
   "name": "python3"
  },
  "language_info": {
   "codemirror_mode": {
    "name": "ipython",
    "version": 3
   },
   "file_extension": ".py",
   "mimetype": "text/x-python",
   "name": "python",
   "nbconvert_exporter": "python",
   "pygments_lexer": "ipython3",
   "version": "3.10.9"
  }
 },
 "nbformat": 4,
 "nbformat_minor": 5
}
