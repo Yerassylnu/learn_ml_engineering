{
 "cells": [
  {
   "cell_type": "code",
   "execution_count": 43,
   "id": "effc7310",
   "metadata": {
    "scrolled": true
   },
   "outputs": [
    {
     "data": {
      "text/html": [
       "<div>\n",
       "<style scoped>\n",
       "    .dataframe tbody tr th:only-of-type {\n",
       "        vertical-align: middle;\n",
       "    }\n",
       "\n",
       "    .dataframe tbody tr th {\n",
       "        vertical-align: top;\n",
       "    }\n",
       "\n",
       "    .dataframe thead th {\n",
       "        text-align: right;\n",
       "    }\n",
       "</style>\n",
       "<table border=\"1\" class=\"dataframe\">\n",
       "  <thead>\n",
       "    <tr style=\"text-align: right;\">\n",
       "      <th></th>\n",
       "      <th>Movie Name</th>\n",
       "      <th>Release Date</th>\n",
       "      <th>Opening Day</th>\n",
       "      <th>Opening Weekend</th>\n",
       "      <th>End of Week 1</th>\n",
       "      <th>Lifetime</th>\n",
       "    </tr>\n",
       "  </thead>\n",
       "  <tbody>\n",
       "    <tr>\n",
       "      <th>0</th>\n",
       "      <td>Samadhi</td>\n",
       "      <td>1950-01-01</td>\n",
       "      <td>0 Cr N.A</td>\n",
       "      <td>0 Cr N.A</td>\n",
       "      <td>0 Cr N.A</td>\n",
       "      <td>0.75 Cr</td>\n",
       "    </tr>\n",
       "    <tr>\n",
       "      <th>1</th>\n",
       "      <td>Babul</td>\n",
       "      <td>1950-01-01</td>\n",
       "      <td>0 Cr N.A</td>\n",
       "      <td>0 Cr N.A</td>\n",
       "      <td>0 Cr N.A</td>\n",
       "      <td>0.70 Cr</td>\n",
       "    </tr>\n",
       "    <tr>\n",
       "      <th>2</th>\n",
       "      <td>Awaara</td>\n",
       "      <td>1951-01-01</td>\n",
       "      <td>0 Cr N.A</td>\n",
       "      <td>0 Cr N.A</td>\n",
       "      <td>0 Cr N.A</td>\n",
       "      <td>1.25 Cr</td>\n",
       "    </tr>\n",
       "    <tr>\n",
       "      <th>3</th>\n",
       "      <td>Albela</td>\n",
       "      <td>1951-01-01</td>\n",
       "      <td>0 Cr N.A</td>\n",
       "      <td>0 Cr N.A</td>\n",
       "      <td>0 Cr N.A</td>\n",
       "      <td>0.90 Cr</td>\n",
       "    </tr>\n",
       "    <tr>\n",
       "      <th>4</th>\n",
       "      <td>Baazi</td>\n",
       "      <td>1951-01-01</td>\n",
       "      <td>0 Cr N.A</td>\n",
       "      <td>0 Cr N.A</td>\n",
       "      <td>0 Cr N.A</td>\n",
       "      <td>1 Cr</td>\n",
       "    </tr>\n",
       "  </tbody>\n",
       "</table>\n",
       "</div>"
      ],
      "text/plain": [
       "  Movie Name Release Date Opening Day Opening Weekend End of Week 1 Lifetime\n",
       "0    Samadhi   1950-01-01    0 Cr N.A        0 Cr N.A      0 Cr N.A  0.75 Cr\n",
       "1      Babul   1950-01-01    0 Cr N.A        0 Cr N.A      0 Cr N.A  0.70 Cr\n",
       "2     Awaara   1951-01-01    0 Cr N.A        0 Cr N.A      0 Cr N.A  1.25 Cr\n",
       "3     Albela   1951-01-01    0 Cr N.A        0 Cr N.A      0 Cr N.A  0.90 Cr\n",
       "4      Baazi   1951-01-01    0 Cr N.A        0 Cr N.A      0 Cr N.A     1 Cr"
      ]
     },
     "execution_count": 43,
     "metadata": {},
     "output_type": "execute_result"
    }
   ],
   "source": [
    "import pandas as pd\n",
    "import numpy as np\n",
    "#https://www.kaggle.com/datasets/slmsshk/bollywood-release-movie-dataset\n",
    "df = pd.read_csv(\"movie_data.csv\")\n",
    "df[\"Release Date\"] = pd.to_datetime(df[\"Release Date\"])\n",
    "df.head()"
   ]
  },
  {
   "cell_type": "code",
   "execution_count": 21,
   "id": "c5f105a9",
   "metadata": {},
   "outputs": [
    {
     "data": {
      "text/html": [
       "<div>\n",
       "<style scoped>\n",
       "    .dataframe tbody tr th:only-of-type {\n",
       "        vertical-align: middle;\n",
       "    }\n",
       "\n",
       "    .dataframe tbody tr th {\n",
       "        vertical-align: top;\n",
       "    }\n",
       "\n",
       "    .dataframe thead th {\n",
       "        text-align: right;\n",
       "    }\n",
       "</style>\n",
       "<table border=\"1\" class=\"dataframe\">\n",
       "  <thead>\n",
       "    <tr style=\"text-align: right;\">\n",
       "      <th></th>\n",
       "      <th>Movie Name</th>\n",
       "      <th>Release Date</th>\n",
       "      <th>Opening Day</th>\n",
       "      <th>Opening Weekend</th>\n",
       "      <th>End of Week 1</th>\n",
       "      <th>Lifetime</th>\n",
       "    </tr>\n",
       "  </thead>\n",
       "  <tbody>\n",
       "    <tr>\n",
       "      <th>0</th>\n",
       "      <td>Samadhi</td>\n",
       "      <td>1950-01-01</td>\n",
       "      <td>0 Cr N.A</td>\n",
       "      <td>0 Cr N.A</td>\n",
       "      <td>0 Cr N.A</td>\n",
       "      <td>0.75 Cr</td>\n",
       "    </tr>\n",
       "    <tr>\n",
       "      <th>1</th>\n",
       "      <td>Babul</td>\n",
       "      <td>1950-01-01</td>\n",
       "      <td>0 Cr N.A</td>\n",
       "      <td>0 Cr N.A</td>\n",
       "      <td>0 Cr N.A</td>\n",
       "      <td>0.70 Cr</td>\n",
       "    </tr>\n",
       "  </tbody>\n",
       "</table>\n",
       "</div>"
      ],
      "text/plain": [
       "  Movie Name Release Date Opening Day Opening Weekend End of Week 1 Lifetime\n",
       "0    Samadhi   1950-01-01    0 Cr N.A        0 Cr N.A      0 Cr N.A  0.75 Cr\n",
       "1      Babul   1950-01-01    0 Cr N.A        0 Cr N.A      0 Cr N.A  0.70 Cr"
      ]
     },
     "execution_count": 21,
     "metadata": {},
     "output_type": "execute_result"
    }
   ],
   "source": [
    "df[df[\"Release Date\"]==pd.Timestamp(\"1950-01-01\")]"
   ]
  },
  {
   "cell_type": "code",
   "execution_count": 30,
   "id": "8aa57d03",
   "metadata": {},
   "outputs": [
    {
     "data": {
      "text/plain": [
       "count         3414\n",
       "unique        1559\n",
       "top       0.001 Cr\n",
       "freq           179\n",
       "Name: Lifetime, dtype: object"
      ]
     },
     "execution_count": 30,
     "metadata": {},
     "output_type": "execute_result"
    }
   ],
   "source": [
    "df[\"Lifetime\"].describe()"
   ]
  },
  {
   "cell_type": "code",
   "execution_count": 41,
   "id": "ec0bef4d",
   "metadata": {},
   "outputs": [
    {
     "data": {
      "text/plain": [
       "73.54"
      ]
     },
     "execution_count": 41,
     "metadata": {},
     "output_type": "execute_result"
    }
   ],
   "source": [
    "how_many_days = df[\"Release Date\"].max() - df[\"Release Date\"].min()\n",
    "years = 365\n",
    "how_many_years = round(how_many_days.days/years,2)\n",
    "how_many_years"
   ]
  },
  {
   "cell_type": "code",
   "execution_count": 57,
   "id": "3b2dd124",
   "metadata": {},
   "outputs": [
    {
     "name": "stdout",
     "output_type": "stream",
     "text": [
      "The most common value: Aankhen\n",
      "The number of repetitions: 3\n"
     ]
    }
   ],
   "source": [
    "most_frequent_value = df[\"Movie Name\"].value_counts().idxmax()\n",
    "count = df[\"Movie Name\"].value_counts()\n",
    "count = count.max()\n",
    "print(\"The most common value:\",most_frequent_value)\n",
    "print(\"The number of repetitions:\",count)"
   ]
  },
  {
   "cell_type": "code",
   "execution_count": null,
   "id": "ba28c7ac",
   "metadata": {},
   "outputs": [],
   "source": []
  }
 ],
 "metadata": {
  "kernelspec": {
   "display_name": "Python 3 (ipykernel)",
   "language": "python",
   "name": "python3"
  },
  "language_info": {
   "codemirror_mode": {
    "name": "ipython",
    "version": 3
   },
   "file_extension": ".py",
   "mimetype": "text/x-python",
   "name": "python",
   "nbconvert_exporter": "python",
   "pygments_lexer": "ipython3",
   "version": "3.10.9"
  }
 },
 "nbformat": 4,
 "nbformat_minor": 5
}
