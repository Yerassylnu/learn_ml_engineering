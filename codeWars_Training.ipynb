{
 "cells": [
  {
   "cell_type": "markdown",
   "id": "3bf49253",
   "metadata": {},
   "source": [
    "# List Filtering"
   ]
  },
  {
   "cell_type": "code",
   "execution_count": 27,
   "id": "9caf1993",
   "metadata": {},
   "outputs": [
    {
     "data": {
      "text/plain": [
       "[1, 2]"
      ]
     },
     "execution_count": 27,
     "metadata": {},
     "output_type": "execute_result"
    }
   ],
   "source": [
    "def filter_list(l):\n",
    "    r = []\n",
    "    for i in l:\n",
    "        if type(i) == int:\n",
    "            r.append(i)\n",
    "    return r\n",
    "    'return a new list with the strings filtered out'\n",
    "filter_list([1,2,'a','b'])\n",
    "filter_list([1, \"a\", \"b\", 0, 15])\n",
    "filter_list([1,2,'a','b'])"
   ]
  },
  {
   "cell_type": "code",
   "execution_count": null,
   "id": "796aa657",
   "metadata": {},
   "outputs": [],
   "source": []
  }
 ],
 "metadata": {
  "kernelspec": {
   "display_name": "Python 3 (ipykernel)",
   "language": "python",
   "name": "python3"
  },
  "language_info": {
   "codemirror_mode": {
    "name": "ipython",
    "version": 3
   },
   "file_extension": ".py",
   "mimetype": "text/x-python",
   "name": "python",
   "nbconvert_exporter": "python",
   "pygments_lexer": "ipython3",
   "version": "3.10.9"
  }
 },
 "nbformat": 4,
 "nbformat_minor": 5
}
