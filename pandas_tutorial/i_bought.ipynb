{
 "cells": [
  {
   "cell_type": "code",
   "execution_count": 1,
   "id": "d873a813",
   "metadata": {},
   "outputs": [],
   "source": [
    "import pandas as pd"
   ]
  },
  {
   "cell_type": "code",
   "execution_count": 2,
   "id": "8e0ccdd1",
   "metadata": {},
   "outputs": [
    {
     "data": {
      "text/html": [
       "<div>\n",
       "<style scoped>\n",
       "    .dataframe tbody tr th:only-of-type {\n",
       "        vertical-align: middle;\n",
       "    }\n",
       "\n",
       "    .dataframe tbody tr th {\n",
       "        vertical-align: top;\n",
       "    }\n",
       "\n",
       "    .dataframe thead th {\n",
       "        text-align: right;\n",
       "    }\n",
       "</style>\n",
       "<table border=\"1\" class=\"dataframe\">\n",
       "  <thead>\n",
       "    <tr style=\"text-align: right;\">\n",
       "      <th></th>\n",
       "      <th>Дата</th>\n",
       "      <th>Вещь</th>\n",
       "      <th>Стоимость</th>\n",
       "    </tr>\n",
       "  </thead>\n",
       "  <tbody>\n",
       "    <tr>\n",
       "      <th>0</th>\n",
       "      <td>11.06.2023</td>\n",
       "      <td>шоколад</td>\n",
       "      <td>500</td>\n",
       "    </tr>\n",
       "    <tr>\n",
       "      <th>1</th>\n",
       "      <td>11.06.2023</td>\n",
       "      <td>пряник</td>\n",
       "      <td>320</td>\n",
       "    </tr>\n",
       "    <tr>\n",
       "      <th>2</th>\n",
       "      <td>13.06.2023</td>\n",
       "      <td>хлеб</td>\n",
       "      <td>140</td>\n",
       "    </tr>\n",
       "    <tr>\n",
       "      <th>3</th>\n",
       "      <td>14.06.2023</td>\n",
       "      <td>молоко</td>\n",
       "      <td>310</td>\n",
       "    </tr>\n",
       "  </tbody>\n",
       "</table>\n",
       "</div>"
      ],
      "text/plain": [
       "         Дата     Вещь  Стоимость\n",
       "0  11.06.2023  шоколад        500\n",
       "1  11.06.2023   пряник        320\n",
       "2  13.06.2023     хлеб        140\n",
       "3  14.06.2023   молоко        310"
      ]
     },
     "execution_count": 2,
     "metadata": {},
     "output_type": "execute_result"
    }
   ],
   "source": [
    "bought_data = pd.read_csv(\"i_bought.csv\", sep=';')\n",
    "bought_data"
   ]
  },
  {
   "cell_type": "code",
   "execution_count": 3,
   "id": "37cc533e",
   "metadata": {},
   "outputs": [
    {
     "data": {
      "text/html": [
       "<div>\n",
       "<style scoped>\n",
       "    .dataframe tbody tr th:only-of-type {\n",
       "        vertical-align: middle;\n",
       "    }\n",
       "\n",
       "    .dataframe tbody tr th {\n",
       "        vertical-align: top;\n",
       "    }\n",
       "\n",
       "    .dataframe thead th {\n",
       "        text-align: right;\n",
       "    }\n",
       "</style>\n",
       "<table border=\"1\" class=\"dataframe\">\n",
       "  <thead>\n",
       "    <tr style=\"text-align: right;\">\n",
       "      <th></th>\n",
       "      <th>Дата</th>\n",
       "      <th>Вещь</th>\n",
       "      <th>Стоимость</th>\n",
       "    </tr>\n",
       "  </thead>\n",
       "  <tbody>\n",
       "    <tr>\n",
       "      <th>0</th>\n",
       "      <td>11.06.2023</td>\n",
       "      <td>шоколад</td>\n",
       "      <td>500</td>\n",
       "    </tr>\n",
       "  </tbody>\n",
       "</table>\n",
       "</div>"
      ],
      "text/plain": [
       "         Дата     Вещь  Стоимость\n",
       "0  11.06.2023  шоколад        500"
      ]
     },
     "execution_count": 3,
     "metadata": {},
     "output_type": "execute_result"
    }
   ],
   "source": [
    "bought_data.head(1)"
   ]
  },
  {
   "cell_type": "code",
   "execution_count": 4,
   "id": "670fe589",
   "metadata": {},
   "outputs": [
    {
     "data": {
      "text/plain": [
       "pandas.core.series.Series"
      ]
     },
     "execution_count": 4,
     "metadata": {},
     "output_type": "execute_result"
    }
   ],
   "source": [
    "type(bought_data['Дата'])"
   ]
  },
  {
   "cell_type": "code",
   "execution_count": 5,
   "id": "4ae0c26b",
   "metadata": {},
   "outputs": [],
   "source": [
    "medium_value = bought_data['Стоимость'].mean()"
   ]
  },
  {
   "cell_type": "code",
   "execution_count": 6,
   "id": "515a15c5",
   "metadata": {},
   "outputs": [],
   "source": [
    "number_of_things = len(bought_data['Вещь'])"
   ]
  },
  {
   "cell_type": "code",
   "execution_count": 7,
   "id": "10fa23f1",
   "metadata": {},
   "outputs": [],
   "source": [
    "last_thing_bought = bought_data.tail(1)"
   ]
  },
  {
   "cell_type": "code",
   "execution_count": 8,
   "id": "3bed12c4",
   "metadata": {},
   "outputs": [],
   "source": [
    "a=[]\n",
    "for i in bought_data['Стоимость']:\n",
    "    a.append(i)\n",
    "all_expenses = sum(a)"
   ]
  },
  {
   "cell_type": "code",
   "execution_count": 9,
   "id": "75c391e6",
   "metadata": {},
   "outputs": [],
   "source": [
    "min_expense = bought_data[bought_data['Стоимость']==bought_data['Стоимость'].max()]"
   ]
  },
  {
   "cell_type": "code",
   "execution_count": 10,
   "id": "84a955e8",
   "metadata": {},
   "outputs": [],
   "source": [
    "max_expense = bought_data[bought_data['Стоимость']==bought_data['Стоимость'].min()]"
   ]
  },
  {
   "cell_type": "code",
   "execution_count": 11,
   "id": "babee7a2",
   "metadata": {},
   "outputs": [
    {
     "name": "stdout",
     "output_type": "stream",
     "text": [
      "Среднее значение затрат:\n",
      " 317.5 тенге\n",
      "Кол-во вещей:\n",
      " 4\n",
      "Последняя затрата:\n",
      "          Дата    Вещь  Стоимость\n",
      "3  14.06.2023  молоко        310\n",
      "Итог:\n",
      " 1270 тенге\n",
      "Наименьшая затрата:\n",
      "          Дата     Вещь  Стоимость\n",
      "0  11.06.2023  шоколад        500\n",
      "Наибольшая затрата:\n",
      "          Дата  Вещь  Стоимость\n",
      "2  13.06.2023  хлеб        140\n"
     ]
    }
   ],
   "source": [
    "print(\"Среднее значение затрат:\\n\",medium_value,\"тенге\")\n",
    "print(\"Кол-во вещей:\\n\",number_of_things)\n",
    "print(\"Последняя затрата:\\n\",last_thing_bought)\n",
    "print(\"Итог:\\n\",all_expenses,\"тенге\")\n",
    "print(\"Наименьшая затрата:\\n\", min_expense)\n",
    "print(\"Наибольшая затрата:\\n\",max_expense)"
   ]
  },
  {
   "cell_type": "code",
   "execution_count": null,
   "id": "6d574ac2",
   "metadata": {},
   "outputs": [],
   "source": []
  }
 ],
 "metadata": {
  "kernelspec": {
   "display_name": "Python 3 (ipykernel)",
   "language": "python",
   "name": "python3"
  },
  "language_info": {
   "codemirror_mode": {
    "name": "ipython",
    "version": 3
   },
   "file_extension": ".py",
   "mimetype": "text/x-python",
   "name": "python",
   "nbconvert_exporter": "python",
   "pygments_lexer": "ipython3",
   "version": "3.10.9"
  }
 },
 "nbformat": 4,
 "nbformat_minor": 5
}
