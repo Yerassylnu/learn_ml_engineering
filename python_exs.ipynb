{
 "cells": [
  {
   "cell_type": "markdown",
   "id": "b906ee21",
   "metadata": {},
   "source": [
    "# Python Exercises"
   ]
  },
  {
   "cell_type": "code",
   "execution_count": 3,
   "id": "93711c04",
   "metadata": {},
   "outputs": [
    {
     "name": "stdout",
     "output_type": "stream",
     "text": [
      "1 2 6\n",
      "3\n"
     ]
    }
   ],
   "source": [
    "#Ex A\n",
    "a,b,c = map(int, input().split())\n",
    "print(min(a+b,c))"
   ]
  },
  {
   "cell_type": "code",
   "execution_count": 24,
   "id": "4202c840",
   "metadata": {},
   "outputs": [
    {
     "name": "stdout",
     "output_type": "stream",
     "text": [
      "10 15\n",
      "125\n"
     ]
    }
   ],
   "source": [
    "#Ex B\n",
    "res = 0\n",
    "s,p = map(int, input().split())\n",
    "for a in range(1,s):\n",
    "    for b in range(1,s):\n",
    "        if a+b>s or a*b>p:\n",
    "            break\n",
    "        for c in range(1,s):\n",
    "            if a+b+c>s or a*b*c>p:\n",
    "                break\n",
    "            for d in range(1,s):\n",
    "                if a+b+c+d > s or a*b*c*d > p:\n",
    "                    break\n",
    "                if a+b+c+d <= s and a*b*c*d <= p:\n",
    "                    res += 1\n",
    "print(res)"
   ]
  },
  {
   "cell_type": "code",
   "execution_count": null,
   "id": "631a1bed",
   "metadata": {},
   "outputs": [],
   "source": []
  }
 ],
 "metadata": {
  "kernelspec": {
   "display_name": "Python 3 (ipykernel)",
   "language": "python",
   "name": "python3"
  },
  "language_info": {
   "codemirror_mode": {
    "name": "ipython",
    "version": 3
   },
   "file_extension": ".py",
   "mimetype": "text/x-python",
   "name": "python",
   "nbconvert_exporter": "python",
   "pygments_lexer": "ipython3",
   "version": "3.10.9"
  }
 },
 "nbformat": 4,
 "nbformat_minor": 5
}
